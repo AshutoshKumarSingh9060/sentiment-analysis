{
 "cells": [
  {
   "cell_type": "code",
   "execution_count": null,
   "id": "b2f8d245-7912-4528-8b2b-d21b9fe4af65",
   "metadata": {},
   "outputs": [
    {
     "name": "stdout",
     "output_type": "stream",
     "text": [
      "Text: \"I Really Enjoyed Doing the YBI Foundation Internship.\" => Sentiment: Positive\n",
      "Text: \"This is the  Experience I've ever had.\" => Sentiment: Negative\n",
      "Text: \"I'm feeling neutral about this situation.\" => Sentiment: Neutral\n"
     ]
    }
   ],
   "source": [
    "from textblob import TextBlob\n",
    "# Sample texts for sentiment analysis\n",
    "texts = [\n",
    "    \"I love this product! It's amazing.\",\n",
    "    \"This is the worst experience I've ever had.\",\n",
    "    \"I'm feeling neutral about this situation.\"\n",
    "]\n",
    "# Analyzing sentiment\n",
    "for text in texts:\n",
    "    blob = TextBlob(text)\n",
    "    sentiment = blob.sentiment.polarity  # Polarity ranges from -1 (negative) to 1 (positive)\n",
    "    \n",
    "    if sentiment > 0:\n",
    "        sentiment_label = \"Positive\"\n",
    "    elif sentiment < 0:\n",
    "        sentiment_label = \"Negative\"\n",
    "    else:\n",
    "        sentiment_label = \"Neutral\"\n",
    "    \n",
    "    print(f'Text: \"{text}\" => Sentiment: {sentiment_label}')"
   ]
  },
  {
   "cell_type": "code",
   "execution_count": null,
   "id": "1e1e7646-3db7-41bd-8719-4aa52a931568",
   "metadata": {},
   "outputs": [],
   "source": []
  }
 ],
 "metadata": {
  "kernelspec": {
   "display_name": "Python 3 (ipykernel)",
   "language": "python",
   "name": "python3"
  },
  "language_info": {
   "codemirror_mode": {
    "name": "ipython",
    "version": 3
   },
   "file_extension": ".py",
   "mimetype": "text/x-python",
   "name": "python",
   "nbconvert_exporter": "python",
   "pygments_lexer": "ipython3",
   "version": "3.13.4"
  }
 },
 "nbformat": 4,
 "nbformat_minor": 5
}
